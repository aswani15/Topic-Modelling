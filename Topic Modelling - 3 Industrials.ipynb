{
 "cells": [
  {
   "cell_type": "markdown",
   "metadata": {
    "deletable": true,
    "editable": true
   },
   "source": [
    "# Topic Modelling for Industrial's M&A Deal Ratonale's"
   ]
  },
  {
   "cell_type": "code",
   "execution_count": 1,
   "metadata": {
    "collapsed": true,
    "deletable": true,
    "editable": true
   },
   "outputs": [],
   "source": [
    "import re\n",
    "import string\n",
    "import numpy as np\n",
    "import pandas as pd\n",
    "from nltk.corpus import stopwords\n",
    "from nltk.stem.wordnet import WordNetLemmatizer\n",
    "from nltk.stem import PorterStemmer\n",
    "from sklearn.feature_extraction.text import TfidfVectorizer, CountVectorizer\n",
    "from sklearn.decomposition import NMF, LatentDirichletAllocation\n",
    "from stop_words import safe_get_stop_words\n",
    "from stop_words import get_stop_words\n",
    "from textblob import TextBlob"
   ]
  },
  {
   "cell_type": "code",
   "execution_count": 2,
   "metadata": {
    "collapsed": false,
    "deletable": true,
    "editable": true
   },
   "outputs": [
    {
     "name": "stderr",
     "output_type": "stream",
     "text": [
      "C:\\Users\\Rajiv2806\\AppData\\Local\\Enthought\\Canopy\\edm\\envs\\User\\lib\\site-packages\\ipykernel\\__main__.py:4: SettingWithCopyWarning: \n",
      "A value is trying to be set on a copy of a slice from a DataFrame\n",
      "\n",
      "See the caveats in the documentation: http://pandas.pydata.org/pandas-docs/stable/indexing.html#indexing-view-versus-copy\n"
     ]
    }
   ],
   "source": [
    "Industrial = pd.read_excel(\"D:\\\\ISB\\\\Capstone Project\\\\Data\\\\3-Industrial Deals\\\\3-Industrials - New.xls\",sheetname='MM_DealUnformattedReport')#,skiprows=7)\n",
    "for i in range(0,len(Industrial)):\n",
    "    try:\n",
    "        Industrial['Deal Description'][i] = Industrial['Deal Description'][i].encode('utf8')\n",
    "    except:\n",
    "        print i"
   ]
  },
  {
   "cell_type": "code",
   "execution_count": 14,
   "metadata": {
    "collapsed": false,
    "deletable": true,
    "editable": true
   },
   "outputs": [],
   "source": [
    "stop_words1 = set(stopwords.words('english'))\n",
    "stop_words1 = \" \".join(i.encode('utf-8') for i in stop_words1).split()\n",
    "stop_words2 = ['million','approximately','july','march','august','february','october','press','release','usbased','usd'\n",
    "               ,'company','form','filed','undisclosed']\n",
    "stop_words3 = list(get_stop_words('en'))\n",
    "stop_words3 = \" \".join(i.encode('utf-8') for i in stop_words3).split()\n",
    "stop_words4 = list(safe_get_stop_words('unsupported language'))\n",
    "stop_words5 = str(Industrial[['Target Company','Bidder Company']]) #,'Sellers','Target Ticker','Exchange:Ticker','Deal Responses','Target Company Industry']])\n",
    "stop_words5 = list(pd.unique(stop_words5.split()))\n",
    "stop_words = list(pd.unique(stop_words1+stop_words2+stop_words3+stop_words4+stop_words5))\n",
    "\n",
    "stemming1 = WordNetLemmatizer()    #stemming2 = PorterStemmer()"
   ]
  },
  {
   "cell_type": "code",
   "execution_count": 13,
   "metadata": {
    "collapsed": false,
    "deletable": true,
    "editable": true
   },
   "outputs": [
    {
     "name": "stdout",
     "output_type": "stream",
     "text": [
      "Topics For Industrial's\n",
      "====================================================================================================\n",
      "NMF MODEL\n",
      "Topic 1:\n",
      "product service acquisition solution industrial industry corporation technology equipment transaction engaged acquired business market manufacturer\n",
      "Topic 2:\n",
      "share exhibit headquartered expected transaction price closing corporation condition agreement offer cash termination approval acquire\n",
      "Topic 3:\n",
      "logistics transportation service logistics_service freight providing provider engaged_providing transportation_service trucking transportation_logistics service_undisclosed service_acquired shipping transport\n",
      "Topic 4:\n",
      "packaging corrugated paper container packaging_product packaging_solution graphic plastic food paper_packaging product manufacturer display flexible consumer\n",
      "Topic 5:\n",
      "capital partner equity private_equity firm private equity_firm capital_partner firm_acquired partner_private undisclosed portfolio acquired undisclosed_consideration management\n",
      "Topic 6:\n",
      "waste service disposal recycling waste_management environmental management management_service collection environmental_service providing solid transfer engaged_providing treatment\n",
      "Topic 7:\n",
      "steel metal tube aluminum processing product metal_product corporation holding alloy dynamic fabrication employee december holding_corporation\n",
      "Topic 8:\n",
      "aerospace precision component defense manufacturing aircraft aerospace_defense group industry fastener aviation metal aerospace_industry military engineering\n",
      "====================================================================================================\n",
      "LDA MODEL\n",
      "Topic 1:\n",
      "service waste security holding exhibit energy logistics environmental recycling terminal management acquisition transaction partner update\n",
      "Topic 2:\n",
      "tool communication railroad machine printing digital molding print tooling alloy real mold injection precision acquisition\n",
      "Topic 3:\n",
      "service acquisition engaged acquired transaction source link solution source_link product corporation technology undisclosed industrial customer\n",
      "Topic 4:\n",
      "product packaging acquisition manufacturer acquired manufacturing transaction steel metal industry undisclosed_consideration source_link link source undisclosed\n",
      "Topic 5:\n",
      "capital equity private acquired firm private_equity partner undisclosed equity_firm undisclosed_consideration service acquisition portfolio management capital_partner\n",
      "Topic 6:\n",
      "transaction share expected headquartered corporation exhibit condition closing price cash acquire update acquisition agreement listed\n",
      "Topic 7:\n",
      "instrument measurement laser safe technology scientific incorporated fleet instrumentation test research science testing process life\n",
      "Topic 8:\n",
      "industry product acquisition transaction manufacturer business electrical electric listed furniture source source_link link facility expected\n",
      "====================================================================================================\n"
     ]
    }
   ],
   "source": [
    "unigram = []\n",
    "bigram = []\n",
    "\n",
    "for i in range(0,len(Industrial)):\n",
    "    to_lowercase = Industrial['Deal Description'][i].lower()\n",
    "    puncuation_removed = re.sub(r'[^\\w\\s]','',to_lowercase)\n",
    "    newline_removed = re.sub('\\n',' ',puncuation_removed)\n",
    "    stopwords_removed = \" \".join(j for j in newline_removed.split() if j not in stop_words)\n",
    "    stemming_words1 = \" \".join(stemming1.lemmatize(j) for j in stopwords_removed.split())\n",
    "    numbers_removed = \" \".join(re.sub(\"\\d+\",\"\",i) for i in stemming_words1.split())\n",
    "    letters_removed = \" \".join(j for j in numbers_removed.split() if len(j) > 3)\n",
    "    trimmed = letters_removed.strip()\n",
    "    unigram.append(trimmed)\n",
    "    \n",
    "    a = \"\"\n",
    "    for j in range(0,(len(trimmed.split())-1)):\n",
    "        empty = trimmed.split()[j]+\"_\"+trimmed.split()[j+1]\n",
    "        a = a+\" \"+empty\n",
    "    a = a.strip()\n",
    "    bigram.append(a)\n",
    "    \n",
    "data = [str(bigram[i])+\" \"+str(unigram[i]) for i in range(len(bigram))]\n",
    "\n",
    "n_features = 1000\n",
    "\n",
    "# tf or count matrix\n",
    "# for topic modelling LDA can only use raw term counts because it is a probabilistic graphical model\n",
    "tf_vectorizer = CountVectorizer(max_df=0.95, min_df=8, max_features=n_features, stop_words='english')\n",
    "tf = tf_vectorizer.fit_transform(data)\n",
    "tf_feature_names = tf_vectorizer.get_feature_names()\n",
    "\n",
    "# tf-idf matrix\n",
    "# for topic modelling NMF is able to use tf-idf\n",
    "tfidf_vectorizer = TfidfVectorizer(max_df=0.95, min_df=8, max_features=n_features, stop_words='english')\n",
    "tfidf = tfidf_vectorizer.fit_transform(data)\n",
    "tfidf_feature_names = tfidf_vectorizer.get_feature_names()\n",
    "\n",
    "n_topics = 8 #input(\"No of topics:\")\n",
    "\n",
    "nmf = NMF(n_components=n_topics,random_state=1,alpha=.1,l1_ratio=.5,init='nndsvd')\n",
    "nmf = nmf.fit(tfidf)\n",
    "\n",
    "lda = LatentDirichletAllocation(n_topics=n_topics, max_iter=5, learning_method='online', learning_offset=50.,random_state=0)\n",
    "lda = lda.fit(tf)\n",
    "\n",
    "# print \"The Shape of NMF Matrix:\",nmf.components_.shape\n",
    "# print \"The Shape of LDA Matrix:\",lda.components_.shape\n",
    "\n",
    "def display_topics(model, feature_names, no_top_words):\n",
    "    if str(model)[0:3] == \"NMF\":\n",
    "        print \"NMF MODEL\"\n",
    "    elif str(model)[0:3] == \"Lat\":\n",
    "        print \"LDA MODEL\"\n",
    "        \n",
    "    for topic_idx, topic in enumerate(model.components_):\n",
    "        print \"Topic %d:\" % (topic_idx+1)\n",
    "        print \" \".join([feature_names[i] for i in topic.argsort()[:-no_top_words - 1:-1]])\n",
    "    print \"=\"*100\n",
    "    \n",
    "no_top_words = 15\n",
    "\n",
    "print \"Topics For Industrial's\"\n",
    "print \"=\"*100\n",
    "\n",
    "display_topics(nmf, tfidf_feature_names, no_top_words)\n",
    "display_topics(lda, tfidf_feature_names, no_top_words)"
   ]
  },
  {
   "cell_type": "code",
   "execution_count": 16,
   "metadata": {
    "collapsed": false
   },
   "outputs": [],
   "source": [
    "topic_output_lda = np.column_stack((data,lda.transform(tf)))\n",
    "topic_output_nmf = np.column_stack((data,nmf.transform(tfidf)))\n",
    "df1 = pd.DataFrame(topic_output_lda,columns=['Deal Rationale','Topic1','Topic2','Topic3','Topic4','Topic5','Topic6','Topic7','Topic8'])\n",
    "df2 = pd.DataFrame(topic_output_nmf,columns=['Deal Rationale','Topic1','Topic2','Topic3','Topic4','Topic5','Topic6','Topic7','Topic8'])\n",
    "df1[\"LDA Topic\"] = df1[df1.columns[1:9]].idxmax(axis=1)\n",
    "df2[\"NMF Topic\"] = df2[df2.columns[1:9]].idxmax(axis=1)\n",
    "\n",
    "Industrial[\"NMF TopicID\"] = df2[df2.columns[1:9]].idxmax(axis=1)\n",
    "Industrial[\"LDA TopicID\"] = df1[df1.columns[1:9]].idxmax(axis=1)\n",
    "\n",
    "Industrial.to_csv(\"D:\\\\ISB\\\\Capstone Project\\\\Data\\\\3-Industrial Deals\\\\Industrials - Topics.csv\",index=False,encoding='utf-8')"
   ]
  },
  {
   "cell_type": "markdown",
   "metadata": {
    "deletable": true,
    "editable": true
   },
   "source": [
    "## Summary:\n",
    "\n",
    "Topic modelling on Industrial acquisitions is done using the LDA and NMF methods.\n",
    "\n",
    "Results for the the Deal rationale, for 8 topics of both the models are:\n",
    "\n",
    "**Topics from Deal Description are:**\n",
    "\n",
    "**NMF MODEL**\n",
    "Topic 1:product service acquisition solution industrial industry corporation technology equipment transaction engaged acquired business market manufacturer –product expansion\n",
    "\n",
    "Topic 2:share exhibit headquartered expected transaction price closing corporation condition agreement offer cash termination approval acquire –deal related\n",
    "\n",
    "Topic 3:logistics transportation service logistics_service freight providing provider engaged_providing transportation_service trucking transportation_logistics service_undisclosed service_acquired shipping transport –transportation indus\n",
    "\n",
    "Topic 4:packaging corrugated paper container packaging_product packaging_solution graphic plastic food paper_packaging product manufacturer display flexible consumer –packaging industry\n",
    "\n",
    "Topic 5:capital partner equity private_equity firm private equity_firm capital_partner firm_acquired partner_private undisclosed portfolio acquired undisclosed_consideration management –financial/stock related terms \n",
    "\n",
    "Topic 6:waste service disposal recycling waste_management environmental management management_service collection environmental_service providing solid transfer engaged_providing treatment –recycling industry\n",
    "\n",
    "Topic 7:steel metal tube aluminum processing product metal_product corporation holding alloy dynamic fabrication employee december holding_corporation –metals industry\n",
    "\n",
    "Topic 8:aerospace precision component defense manufacturing aircraft aerospace_defense group industry fastener aviation metal aerospace_industry military engineering –aricraft industry\n",
    "\n",
    "**LDA MODEL**\n",
    "\n",
    "Topic 1:service waste security holding exhibit energy logistics environmental recycling terminal management acquisition transaction partner update\n",
    "\n",
    "Topic 2:tool communication railroad machine printing digital molding print tooling alloy real mold injection precision acquisition\n",
    "\n",
    "Topic 3:service acquisition engaged acquired transaction source link solution source_link product corporation technology undisclosed industrial customer\n",
    "\n",
    "Topic 4:product packaging acquisition manufacturer acquired manufacturing transaction steel metal industry undisclosed_consideration source_link link source undisclosed\n",
    "\n",
    "Topic 5:capital equity private acquired firm private_equity partner undisclosed equity_firm undisclosed_consideration service acquisition portfolio management capital_partner\n",
    "\n",
    "Topic 6:transaction share expected headquartered corporation exhibit condition closing price cash acquire update acquisition agreement listed\n",
    "\n",
    "Topic 7:instrument measurement laser safe technology scientific incorporated fleet instrumentation test research science testing process life\n",
    "\n",
    "Topic 8:industry product acquisition transaction manufacturer business electrical electric listed furniture source source_link link facility expected"
   ]
  }
 ],
 "metadata": {
  "kernelspec": {
   "display_name": "Python 2",
   "language": "python",
   "name": "python2"
  },
  "language_info": {
   "codemirror_mode": {
    "name": "ipython",
    "version": 2
   },
   "file_extension": ".py",
   "mimetype": "text/x-python",
   "name": "python",
   "nbconvert_exporter": "python",
   "pygments_lexer": "ipython2",
   "version": "2.7.13"
  }
 },
 "nbformat": 4,
 "nbformat_minor": 2
}
