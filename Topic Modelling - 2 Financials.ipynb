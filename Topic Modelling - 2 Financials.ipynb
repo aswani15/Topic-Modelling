{
 "cells": [
  {
   "cell_type": "markdown",
   "metadata": {
    "deletable": true,
    "editable": true
   },
   "source": [
    "# Topic Modelling for Financial Companies M&A Deal Ratonale's"
   ]
  },
  {
   "cell_type": "code",
   "execution_count": 4,
   "metadata": {
    "collapsed": true,
    "deletable": true,
    "editable": true
   },
   "outputs": [],
   "source": [
    "import re\n",
    "import string\n",
    "import numpy as np\n",
    "import pandas as pd\n",
    "from nltk.corpus import stopwords\n",
    "from nltk.stem.wordnet import WordNetLemmatizer\n",
    "from nltk.stem import PorterStemmer\n",
    "from sklearn.feature_extraction.text import TfidfVectorizer, CountVectorizer\n",
    "from sklearn.decomposition import NMF, LatentDirichletAllocation\n",
    "from stop_words import safe_get_stop_words\n",
    "from stop_words import get_stop_words\n",
    "from textblob import TextBlob"
   ]
  },
  {
   "cell_type": "code",
   "execution_count": 5,
   "metadata": {
    "collapsed": false,
    "deletable": true,
    "editable": true
   },
   "outputs": [
    {
     "name": "stderr",
     "output_type": "stream",
     "text": [
      "C:\\Users\\Rajiv2806\\AppData\\Local\\Enthought\\Canopy\\edm\\envs\\User\\lib\\site-packages\\ipykernel\\__main__.py:4: SettingWithCopyWarning: \n",
      "A value is trying to be set on a copy of a slice from a DataFrame\n",
      "\n",
      "See the caveats in the documentation: http://pandas.pydata.org/pandas-docs/stable/indexing.html#indexing-view-versus-copy\n"
     ]
    }
   ],
   "source": [
    "Financials = pd.read_excel(\"D:\\\\ISB\\\\Capstone Project\\\\Data\\\\2-Financial_Deals\\\\2-Financials - New.xls\",sheetname='MM_DealUnformattedReport')#,skiprows=7)\n",
    "for i in range(0,len(Financials)):\n",
    "    try:\n",
    "        Financials['Deal Description'][i] = Financials['Deal Description'][i].encode('utf8')\n",
    "    except:\n",
    "        print i"
   ]
  },
  {
   "cell_type": "code",
   "execution_count": 7,
   "metadata": {
    "collapsed": false,
    "deletable": true,
    "editable": true
   },
   "outputs": [],
   "source": [
    "stop_words1 = set(stopwords.words('english'))\n",
    "stop_words1 = \" \".join(i.encode('utf-8') for i in stop_words1).split()\n",
    "stop_words2 = ['million','approximately','july','march','august','february','october','company','usbased','press','release'\n",
    "              ,'llc','usd','inc']\n",
    "stop_words3 = list(get_stop_words('en'))\n",
    "stop_words3 = \" \".join(i.encode('utf-8') for i in stop_words3).split()\n",
    "stop_words4 = list(safe_get_stop_words('unsupported language'))\n",
    "stop_words5 = str(Financials[['Target Company','Bidder Company']]) #,'Sellers','Target Ticker','Exchange:Ticker','Deal Responses','Target Company Industry']])\n",
    "stop_words5 = list(pd.unique(stop_words5.split()))\n",
    "stop_words = list(pd.unique(stop_words1+stop_words2+stop_words3+stop_words4+stop_words5))\n",
    "\n",
    "stemming1 = WordNetLemmatizer()    #stemming2 = PorterStemmer()"
   ]
  },
  {
   "cell_type": "code",
   "execution_count": 9,
   "metadata": {
    "collapsed": false,
    "deletable": true,
    "editable": true
   },
   "outputs": [
    {
     "name": "stdout",
     "output_type": "stream",
     "text": [
      "Topics For Financial Companies\n",
      "====================================================================================================\n",
      "NMF MODEL\n",
      "Topic 1:\n",
      "bank community branch community_bank state_bank banking bancshares national_bank national state deposit approval transaction bank_bank bancorp\n",
      "Topic 2:\n",
      "capital partner private_equity private equity firm equity_firm stake undisclosed venture capital_partner partner_private acquired firm_acquired acquired_undisclosed\n",
      "Topic 3:\n",
      "brokerage benefit employee service risk international employee_benefit agency acquired undisclosed_consideration solution undisclosed marsh property casualty\n",
      "Topic 4:\n",
      "share bancorp price exhibit closing headquartered offer transaction price_share shareholder termination form filed share_price form_filed\n",
      "Topic 5:\n",
      "management investment asset_management advisor wealth asset wealth_management investment_management advisory client management_firm fund firm capital financial\n",
      "Topic 6:\n",
      "arthur gallagher arthur_gallagher brokerage risk claim administration_service settlement brokerage_risk third_party risk_management providing_brokerage head administration party\n",
      "Topic 7:\n",
      "financial corporation service financial_service financial_corporation acquisition business corp holding form transaction filed form_filed expected listed\n",
      "Topic 8:\n",
      "equipment rental leasing sale engaged platinum acquired providing industrial engaged_providing solution event business family consideration\n",
      "====================================================================================================\n",
      "LDA MODEL\n",
      "Topic 1:\n",
      "bank transaction acquisition expected holding headquartered banking approval financial service asset acquire consideration condition branch\n",
      "Topic 2:\n",
      "share bank transaction price bancorp exhibit closing form filed form_filed shareholder financial headquartered offer approval\n",
      "Topic 3:\n",
      "heritage pacific rental green interstate equipment united class card share year corporation revenue plan transaction\n",
      "Topic 4:\n",
      "bancorp patriot bank liberty transaction heartland berkshire fidelity hill national energy lake midwest mountain howard\n",
      "Topic 5:\n",
      "transaction service bank expected common asset benefit agreement consideration equity shareholder financial closing acquire acquisition\n",
      "Topic 6:\n",
      "management service capital investment transaction acquisition consideration financial firm undisclosed acquired source partner link source_link\n",
      "Topic 7:\n",
      "home virginia atlantic banc eastern martin current california member vice board chairman vice_president officer executive_vice\n",
      "Topic 8:\n",
      "citizen general brown first_citizen national_general citizen_bank holding_corp national guaranty bank_trust health north corp trust liability\n",
      "====================================================================================================\n"
     ]
    }
   ],
   "source": [
    "unigram = []\n",
    "bigram = []\n",
    "\n",
    "for i in range(0,len(Financials)):\n",
    "    to_lowercase = Financials['Deal Description'][i].lower()\n",
    "    puncuation_removed = re.sub(r'[^\\w\\s]','',to_lowercase)\n",
    "    newline_removed = re.sub('\\n',' ',puncuation_removed)\n",
    "    stopwords_removed = \" \".join(j for j in newline_removed.split() if j not in stop_words)\n",
    "    stemming_words1 = \" \".join(stemming1.lemmatize(j) for j in stopwords_removed.split())\n",
    "    numbers_removed = \" \".join(re.sub(\"\\d+\",\"\",i) for i in stemming_words1.split())\n",
    "    letters_removed = \" \".join(j for j in numbers_removed.split() if len(j) > 3)\n",
    "    trimmed = letters_removed.strip()\n",
    "    unigram.append(trimmed)\n",
    "    \n",
    "    a = \"\"\n",
    "    for j in range(0,(len(trimmed.split())-1)):\n",
    "        empty = trimmed.split()[j]+\"_\"+trimmed.split()[j+1]\n",
    "        a = a+\" \"+empty\n",
    "    a = a.strip()\n",
    "    bigram.append(a)\n",
    "    \n",
    "data = [str(bigram[i])+\" \"+str(unigram[i]) for i in range(len(bigram))]\n",
    "\n",
    "n_features = 1000\n",
    "\n",
    "# tf or count matrix\n",
    "# for topic modelling LDA can only use raw term counts because it is a probabilistic graphical model\n",
    "tf_vectorizer = CountVectorizer(max_df=0.95, min_df=8, max_features=n_features, stop_words='english')\n",
    "tf = tf_vectorizer.fit_transform(data)\n",
    "tf_feature_names = tf_vectorizer.get_feature_names()\n",
    "\n",
    "# tf-idf matrix\n",
    "# for topic modelling NMF is able to use tf-idf\n",
    "tfidf_vectorizer = TfidfVectorizer(max_df=0.95, min_df=8, max_features=n_features, stop_words='english')\n",
    "tfidf = tfidf_vectorizer.fit_transform(data)\n",
    "tfidf_feature_names = tfidf_vectorizer.get_feature_names()\n",
    "\n",
    "n_topics = 8 #input(\"No of topics:\")\n",
    "\n",
    "nmf = NMF(n_components=n_topics,random_state=1,alpha=.1,l1_ratio=.5,init='nndsvd')\n",
    "nmf = nmf.fit(tfidf)\n",
    "\n",
    "lda = LatentDirichletAllocation(n_topics=n_topics, max_iter=5, learning_method='online', learning_offset=50.,random_state=0)\n",
    "lda = lda.fit(tf)\n",
    "\n",
    "# print \"The Shape of NMF Matrix:\",nmf.components_.shape\n",
    "# print \"The Shape of LDA Matrix:\",lda.components_.shape\n",
    "\n",
    "def display_topics(model, feature_names, no_top_words):\n",
    "    if str(model)[0:3] == \"NMF\":\n",
    "        print \"NMF MODEL\"\n",
    "    elif str(model)[0:3] == \"Lat\":\n",
    "        print \"LDA MODEL\"\n",
    "        \n",
    "    for topic_idx, topic in enumerate(model.components_):\n",
    "        print \"Topic %d:\" % (topic_idx+1)\n",
    "        print \" \".join([feature_names[i] for i in topic.argsort()[:-no_top_words - 1:-1]])\n",
    "    print \"=\"*100\n",
    "    \n",
    "no_top_words = 15\n",
    "\n",
    "print \"Topics For Financial Companies\"\n",
    "print \"=\"*100\n",
    "\n",
    "display_topics(nmf, tfidf_feature_names, no_top_words)\n",
    "display_topics(lda, tfidf_feature_names, no_top_words)"
   ]
  },
  {
   "cell_type": "code",
   "execution_count": 11,
   "metadata": {
    "collapsed": false
   },
   "outputs": [],
   "source": [
    "topic_output_lda = np.column_stack((data,lda.transform(tf)))\n",
    "topic_output_nmf = np.column_stack((data,nmf.transform(tfidf)))\n",
    "df1 = pd.DataFrame(topic_output_lda,columns=['Deal Rationale','Topic1','Topic2','Topic3','Topic4','Topic5','Topic6','Topic7','Topic8'])\n",
    "df2 = pd.DataFrame(topic_output_nmf,columns=['Deal Rationale','Topic1','Topic2','Topic3','Topic4','Topic5','Topic6','Topic7','Topic8'])\n",
    "df1[\"LDA Topic\"] = df1[df1.columns[1:9]].idxmax(axis=1)\n",
    "df2[\"NMF Topic\"] = df2[df2.columns[1:9]].idxmax(axis=1)\n",
    "\n",
    "Financials[\"NMF TopicID\"] = df2[df2.columns[1:9]].idxmax(axis=1)\n",
    "Financials[\"LDA TopicID\"] = df1[df1.columns[1:9]].idxmax(axis=1)\n",
    "\n",
    "Financials.to_csv(\"D:\\\\ISB\\\\Capstone Project\\\\Data\\\\2-Financial_Deals\\\\Financials - Topics.csv\",index=False,encoding='utf-8')"
   ]
  },
  {
   "cell_type": "markdown",
   "metadata": {
    "deletable": true,
    "editable": true
   },
   "source": [
    "## Summary:\n",
    "\n",
    "Topic modelling on health care acquisitions is done using the LDA and NMF methods.\n",
    "\n",
    "Results for the the Deal rationale, for 8 topics of both the models are:\n",
    "\n",
    "**Topics from Deal Description are:**\n",
    "\n",
    "**NMF MODEL**\n",
    "\n",
    "Topic 1: bank community branch community_bank state_bank banking bancshares national_bank national state deposit approval transaction bank_bank Bancorp --banking\n",
    "\n",
    "Topic 2:capital partner private_equity private equity firm equity_firm stake undisclosed venture capital_partner partner_private acquired firm_acquired acquired_undisclosed  --Captilizations\n",
    "\n",
    "Topic 3: brokerage benefit employee service risk international employee_benefit agency acquired undisclosed_consideration solution undisclosed marsh property casualty  --employees\n",
    "\n",
    "Topic 4: share bancorp price exhibit closing headquartered offer transaction price_share shareholder termination form filed share_price form_filed  --Shares\n",
    "\n",
    "Topic 5: management investment asset_management advisor wealth asset wealth_management investment_management advisory client management_firm fund firm capital financial  --Managerials Aspects\n",
    "\n",
    "Topic 6: arthur gallagher arthur_gallagher brokerage risk claim administration_service settlement brokerage_risk third_party risk_management providing_brokerage head administration party  --third party and risk\n",
    "\n",
    "Topic 7: financial corporation service financial_service financial_corporation acquisition business corp holding form transaction filed form_filed expected listed  --Financial related\n",
    "\n",
    "Topic 8: equipment rental leasing sale engaged platinum acquired providing industrial engaged_providing solution event business family consideration –deal type\n",
    "\n",
    "**LDA MODEL**\n",
    "\n",
    "Topic 1: bank transaction acquisition expected holding headquartered banking approval financial service asset acquire consideration condition branch\n",
    "\n",
    "Topic 2: share bank transaction price bancorp exhibit closing form filed form_filed shareholder financial headquartered offer approval\n",
    "\n",
    "Topic 3: heritage pacific rental green interstate equipment united class card share year corporation revenue plan transaction\n",
    "\n",
    "Topic 4: bancorp patriot bank liberty transaction heartland berkshire fidelity hill national energy lake midwest mountain howard\n",
    "\n",
    "Topic 5: transaction service bank expected common asset benefit agreement consideration equity shareholder financial closing acquire acquisition\n",
    "\n",
    "Topic 6: management service capital investment transaction acquisition consideration financial firm undisclosed acquired source partner link source_link\n",
    "\n",
    "Topic 7: home virginia atlantic banc eastern martin current california member vice board chairman vice_president officer executive_vice\n",
    "\n",
    "Topic 8: citizen general brown first_citizen national_general citizen_bank holding_corp national guaranty bank_trust health north corp trust liability"
   ]
  }
 ],
 "metadata": {
  "kernelspec": {
   "display_name": "Python 2",
   "language": "python",
   "name": "python2"
  },
  "language_info": {
   "codemirror_mode": {
    "name": "ipython",
    "version": 2
   },
   "file_extension": ".py",
   "mimetype": "text/x-python",
   "name": "python",
   "nbconvert_exporter": "python",
   "pygments_lexer": "ipython2",
   "version": "2.7.13"
  }
 },
 "nbformat": 4,
 "nbformat_minor": 2
}
