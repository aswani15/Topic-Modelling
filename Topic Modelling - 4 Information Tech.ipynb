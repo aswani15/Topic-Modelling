{
 "cells": [
  {
   "cell_type": "markdown",
   "metadata": {
    "deletable": true,
    "editable": true
   },
   "source": [
    "# Topic Modelling for Information Tech M&A Deal Ratonale's"
   ]
  },
  {
   "cell_type": "code",
   "execution_count": 4,
   "metadata": {
    "collapsed": true,
    "deletable": true,
    "editable": true
   },
   "outputs": [],
   "source": [
    "import re\n",
    "import string\n",
    "import numpy as np\n",
    "import pandas as pd\n",
    "from nltk.corpus import stopwords\n",
    "from nltk.stem.wordnet import WordNetLemmatizer\n",
    "from nltk.stem import PorterStemmer\n",
    "from sklearn.feature_extraction.text import TfidfVectorizer, CountVectorizer\n",
    "from sklearn.decomposition import NMF, LatentDirichletAllocation\n",
    "from stop_words import safe_get_stop_words\n",
    "from stop_words import get_stop_words\n",
    "from textblob import TextBlob"
   ]
  },
  {
   "cell_type": "code",
   "execution_count": 5,
   "metadata": {
    "collapsed": false,
    "deletable": true,
    "editable": true
   },
   "outputs": [
    {
     "name": "stderr",
     "output_type": "stream",
     "text": [
      "C:\\Users\\Rajiv2806\\AppData\\Local\\Enthought\\Canopy\\edm\\envs\\User\\lib\\site-packages\\ipykernel\\__main__.py:4: SettingWithCopyWarning: \n",
      "A value is trying to be set on a copy of a slice from a DataFrame\n",
      "\n",
      "See the caveats in the documentation: http://pandas.pydata.org/pandas-docs/stable/indexing.html#indexing-view-versus-copy\n"
     ]
    }
   ],
   "source": [
    "it_comp = pd.read_excel(\"D:\\\\ISB\\\\Capstone Project\\\\Data\\\\4-IT Deals\\\\4-Information Technology_20171016.xls\",sheetname='MM_DealUnformattedReport')#,skiprows=7)\n",
    "for i in range(0,len(it_comp)):\n",
    "    try:\n",
    "        it_comp['Deal Description'][i] = it_comp['Deal Description'][i].encode('utf8')\n",
    "    except:\n",
    "        print i"
   ]
  },
  {
   "cell_type": "code",
   "execution_count": 7,
   "metadata": {
    "collapsed": false,
    "deletable": true,
    "editable": true
   },
   "outputs": [],
   "source": [
    "stop_words1 = set(stopwords.words('english'))\n",
    "stop_words1 = \" \".join(i.encode('utf-8') for i in stop_words1).split()\n",
    "stop_words2 = ['million','approximately','july','march','august','february','october','press','release','usbased','usd'\n",
    "               ,'company','form','filed','undisclosed']\n",
    "stop_words3 = list(get_stop_words('en'))\n",
    "stop_words3 = \" \".join(i.encode('utf-8') for i in stop_words3).split()\n",
    "stop_words4 = list(safe_get_stop_words('unsupported language'))\n",
    "stop_words5 = str(it_comp[['Target Company','Bidder Company']]) #,'Sellers','Target Ticker','Exchange:Ticker','Deal Responses','Target Company Industry']])\n",
    "stop_words5 = list(pd.unique(stop_words5.split()))\n",
    "stop_words = list(pd.unique(stop_words1+stop_words2+stop_words3+stop_words4+stop_words5))\n",
    "\n",
    "stemming1 = WordNetLemmatizer()    #stemming2 = PorterStemmer()"
   ]
  },
  {
   "cell_type": "code",
   "execution_count": 10,
   "metadata": {
    "collapsed": false,
    "deletable": true,
    "editable": true
   },
   "outputs": [
    {
     "name": "stdout",
     "output_type": "stream",
     "text": [
      "Topics For Information Technology\n",
      "====================================================================================================\n",
      "NMF MODEL\n",
      "Topic 1:\n",
      "service solution technology acquisition business transaction providing engaged provider security consulting management engaged_providing customer source\n",
      "Topic 2:\n",
      "venture capital venture_capital capital_firm firm partner venture_partner funding investor raised private_equity private group venture_venture round\n",
      "Topic 3:\n",
      "share headquartered transaction expected price closing corporation termination condition offer exhibit agreement cash acquire approval\n",
      "Topic 4:\n",
      "partner equity private private_equity equity_firm capital firm partner_private firm_acquired equity_partner capital_partner portfolio acquired stake management\n",
      "Topic 5:\n",
      "medium online mobile social content brand video digital marketing platform acquired game advertising entertainment acquisition\n",
      "Topic 6:\n",
      "software software_solution solution management management_software customer enterprise provider acquired software_service acquisition development portfolio enable cloudbased\n",
      "Topic 7:\n",
      "health healthcare care medical clinical patient hospital analytics solution april outcome information practice home management\n",
      "Topic 8:\n",
      "data data_center center cloud infrastructure analytics storage managed hosting data_analytics customer enterprise hybrid network managed_service\n",
      "====================================================================================================\n",
      "LDA MODEL\n",
      "Topic 1:\n",
      "venture capital firm partner venture_capital private equity private_equity capital_firm equity_firm venture_partner group headquartered acquired investor\n",
      "Topic 2:\n",
      "fuel server event monitoring software software_acquired capital access management acquisition agency transaction management_software customer optimization\n",
      "Topic 3:\n",
      "service acquisition financial data acquired provider business listed solution center source transaction payment link source_link\n",
      "Topic 4:\n",
      "share transaction offer price closing termination corporation headquartered expected shareholder agreement deal approval board condition\n",
      "Topic 5:\n",
      "solution acquired service software acquisition management technology provider source transaction link source_link engaged customer equity\n",
      "Topic 6:\n",
      "connection virtual venture firm acquired partner capital venture_capital equity senior_vice solution capital_firm private platform acquisition\n",
      "Topic 7:\n",
      "roper roper_technology industrial equipment innovation product_solution manufacturer technology_listed information_system remain medical headquarters longterm month expects\n",
      "Topic 8:\n",
      "acquisition transaction service expected technology cash acquire solution update corporation headquartered completed condition business listed\n",
      "====================================================================================================\n"
     ]
    }
   ],
   "source": [
    "unigram = []\n",
    "bigram = []\n",
    "\n",
    "for i in range(0,len(it_comp)):\n",
    "    to_lowercase = it_comp['Deal Description'][i].lower()\n",
    "    puncuation_removed = re.sub(r'[^\\w\\s]','',to_lowercase)\n",
    "    newline_removed = re.sub('\\n',' ',puncuation_removed)\n",
    "    stopwords_removed = \" \".join(j for j in newline_removed.split() if j not in stop_words)\n",
    "    stemming_words1 = \" \".join(stemming1.lemmatize(j) for j in stopwords_removed.split())\n",
    "    numbers_removed = \" \".join(re.sub(\"\\d+\",\"\",i) for i in stemming_words1.split())\n",
    "    letters_removed = \" \".join(j for j in numbers_removed.split() if len(j) > 3)\n",
    "    trimmed = letters_removed.strip()\n",
    "    unigram.append(trimmed)\n",
    "    \n",
    "    a = \"\"\n",
    "    for j in range(0,(len(trimmed.split())-1)):\n",
    "        empty = trimmed.split()[j]+\"_\"+trimmed.split()[j+1]\n",
    "        a = a+\" \"+empty\n",
    "    a = a.strip()\n",
    "    bigram.append(a)\n",
    "    \n",
    "data = [str(bigram[i])+\" \"+str(unigram[i]) for i in range(len(bigram))]\n",
    "\n",
    "n_features = 1000\n",
    "\n",
    "# tf or count matrix\n",
    "# for topic modelling LDA can only use raw term counts because it is a probabilistic graphical model\n",
    "tf_vectorizer = CountVectorizer(max_df=0.95, min_df=8, max_features=n_features, stop_words='english')\n",
    "tf = tf_vectorizer.fit_transform(data)\n",
    "tf_feature_names = tf_vectorizer.get_feature_names()\n",
    "\n",
    "# tf-idf matrix\n",
    "# for topic modelling NMF is able to use tf-idf\n",
    "tfidf_vectorizer = TfidfVectorizer(max_df=0.95, min_df=8, max_features=n_features, stop_words='english')\n",
    "tfidf = tfidf_vectorizer.fit_transform(data)\n",
    "tfidf_feature_names = tfidf_vectorizer.get_feature_names()\n",
    "\n",
    "n_topics = 8 #input(\"No of topics:\")\n",
    "\n",
    "nmf = NMF(n_components=n_topics,random_state=1,alpha=.1,l1_ratio=.5,init='nndsvd')\n",
    "nmf = nmf.fit(tfidf)\n",
    "\n",
    "lda = LatentDirichletAllocation(n_topics=n_topics, max_iter=5, learning_method='online', learning_offset=50.,random_state=0)\n",
    "lda = lda.fit(tf)\n",
    "\n",
    "# print \"The Shape of NMF Matrix:\",nmf.components_.shape\n",
    "# print \"The Shape of LDA Matrix:\",lda.components_.shape\n",
    "\n",
    "def display_topics(model, feature_names, no_top_words):\n",
    "    if str(model)[0:3] == \"NMF\":\n",
    "        print \"NMF MODEL\"\n",
    "    elif str(model)[0:3] == \"Lat\":\n",
    "        print \"LDA MODEL\"\n",
    "        \n",
    "    for topic_idx, topic in enumerate(model.components_):\n",
    "        print \"Topic %d:\" % (topic_idx+1)\n",
    "        print \" \".join([feature_names[i] for i in topic.argsort()[:-no_top_words - 1:-1]])\n",
    "    print \"=\"*100\n",
    "    \n",
    "no_top_words = 15\n",
    "\n",
    "print \"Topics For Information Technology\"\n",
    "print \"=\"*100\n",
    "\n",
    "display_topics(nmf, tfidf_feature_names, no_top_words)\n",
    "display_topics(lda, tfidf_feature_names, no_top_words)"
   ]
  },
  {
   "cell_type": "code",
   "execution_count": 12,
   "metadata": {
    "collapsed": true
   },
   "outputs": [],
   "source": [
    "topic_output_lda = np.column_stack((data,lda.transform(tf)))\n",
    "topic_output_nmf = np.column_stack((data,nmf.transform(tfidf)))\n",
    "df1 = pd.DataFrame(topic_output_lda,columns=['Deal Rationale','Topic1','Topic2','Topic3','Topic4','Topic5','Topic6','Topic7','Topic8'])\n",
    "df2 = pd.DataFrame(topic_output_nmf,columns=['Deal Rationale','Topic1','Topic2','Topic3','Topic4','Topic5','Topic6','Topic7','Topic8'])\n",
    "df1[\"LDA Topic\"] = df1[df1.columns[1:9]].idxmax(axis=1)\n",
    "df2[\"NMF Topic\"] = df2[df2.columns[1:9]].idxmax(axis=1)\n",
    "\n",
    "it_comp[\"NMF TopicID\"] = df2[df2.columns[1:9]].idxmax(axis=1)\n",
    "it_comp[\"LDA TopicID\"] = df1[df1.columns[1:9]].idxmax(axis=1)\n",
    "\n",
    "it_comp.to_csv(\"D:\\\\ISB\\\\Capstone Project\\\\Data\\\\4-IT Deals\\\\Information Tech - Topics.csv\",index=False,encoding='utf-8')"
   ]
  },
  {
   "cell_type": "markdown",
   "metadata": {
    "deletable": true,
    "editable": true
   },
   "source": [
    "## Summary:\n",
    "\n",
    "Topic modelling on Information Technology acquisitions is done using the LDA and NMF methods.\n",
    "\n",
    "Results for the the Deal rationale, for 8 topics of both the models are:\n",
    "\n",
    "**Topics from Deal Description are:**\n",
    "\n",
    "**NMF MODEL**\n",
    "\n",
    "Topic 1:service solution technology acquisition business transaction providing engaged provider security consulting management engaged_providing customer source –technology and customer\n",
    "\n",
    "Topic 2:venture capital venture_capital capital_firm firm partner venture_partner funding investor raised private_equity private group venture_venture round –firm & venture\n",
    "\n",
    "Topic 3:share headquartered transaction expected price closing corporation termination condition offer exhibit agreement cash acquire approval –deal details\n",
    "\n",
    "Topic 4:partner equity private private_equity equity_firm capital firm partner_private firm_acquired equity_partner capital_partner portfolio acquired stake management - partnerships\n",
    "\n",
    "Topic 5:medium online mobile social content brand video digital marketing platform acquired game advertising entertainment acquisition –online marketing\n",
    "\n",
    "Topic 6:software software_solution solution management management_software customer enterprise provider acquired software_service acquisition development portfolio enable cloudbased –software \n",
    "\n",
    "Topic 7:health healthcare care medical clinical patient hospital analytics solution april outcome information practice home management –healthcare tech\n",
    "\n",
    "Topic 8:data data_center center cloud infrastructure analytics storage managed hosting data_analytics customer enterprise hybrid network managed_service – Data analytics and cloud\n",
    "\n",
    "**LDA MODEL**\n",
    "\n",
    "Topic 1:venture capital firm partner venture_capital private equity private_equity capital_firm equity_firm venture_partner group headquartered acquired investor\n",
    "\n",
    "Topic 2:fuel server event monitoring software software_acquired capital access management acquisition agency transaction management_software customer optimization\n",
    "\n",
    "Topic 3:service acquisition financial data acquired provider business listed solution center source transaction payment link source_link\n",
    "\n",
    "Topic 4:share transaction offer price closing termination corporation headquartered expected shareholder agreement deal approval board condition\n",
    "\n",
    "Topic 5:solution acquired service software acquisition management technology provider source transaction link source_link engaged customer equity\n",
    "\n",
    "Topic 6:connection virtual venture firm acquired partner capital venture_capital equity senior_vice solution capital_firm private platform acquisition\n",
    "\n",
    "Topic 7:roper roper_technology industrial equipment innovation product_solution manufacturer technology_listed information_system remain medical headquarters longterm month expects\n",
    "\n",
    "Topic 8:acquisition transaction service expected technology cash acquire solution update corporation headquartered completed condition business listed\n"
   ]
  }
 ],
 "metadata": {
  "kernelspec": {
   "display_name": "Python 2",
   "language": "python",
   "name": "python2"
  },
  "language_info": {
   "codemirror_mode": {
    "name": "ipython",
    "version": 2
   },
   "file_extension": ".py",
   "mimetype": "text/x-python",
   "name": "python",
   "nbconvert_exporter": "python",
   "pygments_lexer": "ipython2",
   "version": "2.7.13"
  }
 },
 "nbformat": 4,
 "nbformat_minor": 2
}
