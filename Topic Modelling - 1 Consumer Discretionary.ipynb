{
 "cells": [
  {
   "cell_type": "markdown",
   "metadata": {
    "deletable": true,
    "editable": true
   },
   "source": [
    "# Topic Modelling for Consumer Discritionary M&A Deal Ratonale's"
   ]
  },
  {
   "cell_type": "code",
   "execution_count": 84,
   "metadata": {
    "collapsed": false,
    "deletable": true,
    "editable": true
   },
   "outputs": [],
   "source": [
    "import re\n",
    "import string\n",
    "import numpy as np\n",
    "import pandas as pd\n",
    "from nltk.corpus import stopwords\n",
    "from nltk.stem.wordnet import WordNetLemmatizer\n",
    "from nltk.stem import PorterStemmer\n",
    "from sklearn.feature_extraction.text import TfidfVectorizer, CountVectorizer\n",
    "from sklearn.decomposition import NMF, LatentDirichletAllocation\n",
    "from stop_words import safe_get_stop_words\n",
    "from stop_words import get_stop_words\n",
    "from textblob import TextBlob"
   ]
  },
  {
   "cell_type": "code",
   "execution_count": 85,
   "metadata": {
    "collapsed": false,
    "deletable": true,
    "editable": true
   },
   "outputs": [
    {
     "name": "stderr",
     "output_type": "stream",
     "text": [
      "C:\\Users\\Rajiv2806\\AppData\\Local\\Enthought\\Canopy\\edm\\envs\\User\\lib\\site-packages\\ipykernel\\__main__.py:4: SettingWithCopyWarning: \n",
      "A value is trying to be set on a copy of a slice from a DataFrame\n",
      "\n",
      "See the caveats in the documentation: http://pandas.pydata.org/pandas-docs/stable/indexing.html#indexing-view-versus-copy\n"
     ]
    }
   ],
   "source": [
    "consumer_dis = pd.read_excel(\"D:\\\\ISB\\\\Capstone Project\\\\Data\\\\1-CD_Deals\\\\1-Consumer Discretionary - New.xls\",sheetname='MM_DealUnformattedReport')#,skiprows=7)\n",
    "for i in range(0,len(consumer_dis)):\n",
    "    try:\n",
    "        consumer_dis['Deal Description'][i] = consumer_dis['Deal Description'][i].encode('utf8')\n",
    "    except:\n",
    "        print i"
   ]
  },
  {
   "cell_type": "code",
   "execution_count": 75,
   "metadata": {
    "collapsed": false,
    "deletable": true,
    "editable": true
   },
   "outputs": [],
   "source": [
    "stop_words1 = set(stopwords.words('english'))\n",
    "stop_words1 = \" \".join(i.encode('utf-8') for i in stop_words1).split()\n",
    "stop_words2 = ['million','approximately','july','march','august','february','october','company','usbased','press','release'\n",
    "              ,'llc','usd','inc']\n",
    "stop_words3 = list(get_stop_words('en'))\n",
    "stop_words3 = \" \".join(i.encode('utf-8') for i in stop_words3).split()\n",
    "stop_words4 = list(safe_get_stop_words('unsupported language'))\n",
    "stop_words5 = str(consumer_dis[['Target Company','Bidder Company']]) #,'Sellers','Target Ticker','Exchange:Ticker','Deal Responses','Target Company Industry']])\n",
    "stop_words5 = list(pd.unique(stop_words5.split()))\n",
    "stop_words = list(pd.unique(stop_words1+stop_words2+stop_words3+stop_words4+stop_words5))\n",
    "\n",
    "stemming1 = WordNetLemmatizer()    #stemming2 = PorterStemmer()"
   ]
  },
  {
   "cell_type": "code",
   "execution_count": 78,
   "metadata": {
    "collapsed": false,
    "deletable": true,
    "editable": true
   },
   "outputs": [
    {
     "name": "stdout",
     "output_type": "stream",
     "text": [
      "Topics For Consumer Discretionary\n",
      "====================================================================================================\n",
      "NMF MODEL\n",
      "Topic 1:\n",
      "product brand acquisition marketing service transaction engaged acquired undisclosed undisclosed_consideration business manufacturer market continue portfolio\n",
      "Topic 2:\n",
      "dealership automotive automotive_dealership car auto private_individual individual car_dealership individual_interest dealership_undisclosed dealership_acquired nissan chevrolet private group\n",
      "Topic 3:\n",
      "share sec filed_sec filed form_filed form headquartered exhibit transaction expected price closing agreement cash condition\n",
      "Topic 4:\n",
      "medium television station communication publishing newspaper digital broadcasting group content radio new_medium entertainment gray medium_group\n",
      "Topic 5:\n",
      "cocacola bottling refreshment cocacola_bottling beverage soft drink bottled asset distribution cocacola_refreshment bottling_consolidated refreshment_usa consolidated distribution_asset\n",
      "Topic 6:\n",
      "capital venture partner firm equity private_equity private equity_firm capital_partner venture_capital capital_firm firm_undisclosed partner_private undisclosed investor\n",
      "Topic 7:\n",
      "food product conagra frozen snack meat ingredient food_holding food_corporation food_product producer pet vegetable sauce organic\n",
      "Topic 8:\n",
      "store convenience convenience_store retail fuel operator supermarket chain gas retailer grocery market seven operates station\n",
      "====================================================================================================\n",
      "LDA MODEL\n",
      "Topic 1:\n",
      "product food acquisition acquired transaction undisclosed undisclosed_consideration engaged source business link brand source_link company employee\n",
      "Topic 2:\n",
      "cocacola beverage bottling distribution asset coffee cocacola_bottling consolidated water drink marketing refreshment soft tea bottling_consolidated\n",
      "Topic 3:\n",
      "transaction acquisition expected food filed store form sec filed_sec form_filed acquire brand listed update cash\n",
      "Topic 4:\n",
      "dealership automotive acquired undisclosed undisclosed_consideration group automotive_dealership car auto private acquisition individual private_individual individual_interest car_dealership\n",
      "Topic 5:\n",
      "share transaction form filed sec filed_sec form_filed headquartered price exhibit agreement new closing offer expected\n",
      "Topic 6:\n",
      "medium acquisition service digital marketing acquired transaction group new source engaged source_link link business publishing\n",
      "Topic 7:\n",
      "capital partner equity firm private private_equity equity_firm acquired venture undisclosed acquisition undisclosed_consideration transaction portfolio group\n",
      "Topic 8:\n",
      "broadcasting station television nexstar medium television_station nexstar_broadcasting broadcasting_group general group television_broadcasting communication fcc group_form local\n",
      "====================================================================================================\n"
     ]
    }
   ],
   "source": [
    "unigram = []\n",
    "bigram = []\n",
    "\n",
    "for i in range(0,len(consumer_dis)):\n",
    "    to_lowercase = consumer_dis['Deal Description'][i].lower()\n",
    "    puncuation_removed = re.sub(r'[^\\w\\s]','',to_lowercase)\n",
    "    newline_removed = re.sub('\\n',' ',puncuation_removed)\n",
    "    stopwords_removed = \" \".join(j for j in newline_removed.split() if j not in stop_words)\n",
    "    stemming_words1 = \" \".join(stemming1.lemmatize(j) for j in stopwords_removed.split())\n",
    "    numbers_removed = \" \".join(re.sub(\"\\d+\",\"\",i) for i in stemming_words1.split())\n",
    "    letters_removed = \" \".join(j for j in numbers_removed.split() if len(j) > 2)\n",
    "    trimmed = letters_removed.strip()\n",
    "    unigram.append(trimmed)\n",
    "    \n",
    "    a = \"\"\n",
    "    for j in range(0,(len(trimmed.split())-1)):\n",
    "        empty = trimmed.split()[j]+\"_\"+trimmed.split()[j+1]\n",
    "        a = a+\" \"+empty\n",
    "    a = a.strip()\n",
    "    bigram.append(a)\n",
    "    \n",
    "data = [str(bigram[i])+\" \"+str(unigram[i]) for i in range(len(bigram))]\n",
    "\n",
    "n_features = 1000\n",
    "\n",
    "# tf or count matrix\n",
    "# for topic modelling LDA can only use raw term counts because it is a probabilistic graphical model\n",
    "tf_vectorizer = CountVectorizer(max_df=0.95, min_df=8, max_features=n_features, stop_words='english')\n",
    "tf = tf_vectorizer.fit_transform(data)\n",
    "tf_feature_names = tf_vectorizer.get_feature_names()\n",
    "\n",
    "# tf-idf matrix\n",
    "# for topic modelling NMF is able to use tf-idf\n",
    "tfidf_vectorizer = TfidfVectorizer(max_df=0.95, min_df=8, max_features=n_features, stop_words='english')\n",
    "tfidf = tfidf_vectorizer.fit_transform(data)\n",
    "tfidf_feature_names = tfidf_vectorizer.get_feature_names()\n",
    "\n",
    "n_topics = 8 #input(\"No of topics:\")\n",
    "\n",
    "nmf = NMF(n_components=n_topics,random_state=1,alpha=.1,l1_ratio=.5,init='nndsvd')\n",
    "nmf = nmf.fit(tfidf)\n",
    "\n",
    "lda = LatentDirichletAllocation(n_topics=n_topics, max_iter=5, learning_method='online', learning_offset=50.,random_state=0)\n",
    "lda = lda.fit(tf)\n",
    "\n",
    "# print \"The Shape of NMF Matrix:\",nmf.components_.shape\n",
    "# print \"The Shape of LDA Matrix:\",lda.components_.shape\n",
    "\n",
    "def display_topics(model, feature_names, no_top_words):\n",
    "    if str(model)[0:3] == \"NMF\":\n",
    "        print \"NMF MODEL\"\n",
    "    elif str(model)[0:3] == \"Lat\":\n",
    "        print \"LDA MODEL\"\n",
    "        \n",
    "    for topic_idx, topic in enumerate(model.components_):\n",
    "        print \"Topic %d:\" % (topic_idx+1)\n",
    "        print \" \".join([feature_names[i] for i in topic.argsort()[:-no_top_words - 1:-1]])\n",
    "    print \"=\"*100\n",
    "    \n",
    "no_top_words = 15\n",
    "\n",
    "print \"Topics For Consumer Discretionary\"\n",
    "print \"=\"*100\n",
    "\n",
    "display_topics(nmf, tfidf_feature_names, no_top_words)\n",
    "display_topics(lda, tfidf_feature_names, no_top_words)"
   ]
  },
  {
   "cell_type": "code",
   "execution_count": 90,
   "metadata": {
    "collapsed": false
   },
   "outputs": [],
   "source": [
    "topic_output_lda = np.column_stack((data,lda.transform(tf)))\n",
    "topic_output_nmf = np.column_stack((data,nmf.transform(tfidf)))\n",
    "df1 = pd.DataFrame(topic_output_lda,columns=['Deal Rationale','Topic1','Topic2','Topic3','Topic4','Topic5','Topic6','Topic7','Topic8'])\n",
    "df2 = pd.DataFrame(topic_output_nmf,columns=['Deal Rationale','Topic1','Topic2','Topic3','Topic4','Topic5','Topic6','Topic7','Topic8'])\n",
    "df1[\"LDA Topic\"] = df1[df1.columns[1:9]].idxmax(axis=1)\n",
    "df2[\"NMF Topic\"] = df2[df2.columns[1:9]].idxmax(axis=1)\n",
    "\n",
    "consumer_dis[\"NMF TopicID\"] = df2[df2.columns[1:9]].idxmax(axis=1)\n",
    "consumer_dis[\"LDA TopicID\"] = df1[df1.columns[1:9]].idxmax(axis=1)\n",
    "\n",
    "consumer_dis.to_csv(\"D:/ISB/Capstone Project/Data/1-CD_Deals/Consumer Discretionary - Topics.csv\",index=False,encoding='utf-8')"
   ]
  },
  {
   "cell_type": "markdown",
   "metadata": {
    "deletable": true,
    "editable": true
   },
   "source": [
    "## Summary:\n",
    "\n",
    "Topic modelling on Consumer Discritionary acquisitions is done using the LDA and NMF methods.\n",
    "\n",
    "Results for the the Deal rationale, for 8 topics of both the models are:\n",
    "\n",
    "**Topics from Deal Description are:**\n",
    "\n",
    "**NMF MODEL:** *Except Topic 1 others are interpreted*\n",
    "\n",
    "Topic 1: product brand acquisition marketing service transaction engaged acquired undisclosed undisclosed_consideration business manufacturer market continue portfolio \n",
    "\n",
    "Topic 2: dealership automotive automotive_dealership car auto private_individual individual car_dealership individual_interest dealership_undisclosed dealership_acquired nissan chevrolet private group --- Automobile Industry\n",
    "\n",
    "Topic 3: share sec filed_sec filed form_filed form headquartered exhibit transaction expected price closing agreement cash condition  ---deals aggrement related\n",
    "\n",
    "Topic 4: medium television station communication publishing newspaper digital broadcasting group content radio new_medium entertainment gray medium_group  ---Media groups\n",
    "\n",
    "Topic 5: cocacola bottling refreshment cocacola_bottling beverage soft drink bottled asset distribution cocacola_refreshment bottling_consolidated refreshment_usa consolidated distribution_asset  ---beverages Industry\n",
    "\n",
    "Topic 6: capital venture partner firm equity private_equity private equity_firm capital_partner venture_capital capital_firm firm_undisclosed partner_private undisclosed investor   ---related to firm financials\n",
    "\n",
    "Topic 7: food product conagra frozen snack meat ingredient food_holding food_corporation food_product producer pet vegetable sauce organic   ---food indistry\n",
    "\n",
    "Topic 8: store convenience convenience_store retail fuel operator supermarket chain gas retailer grocery market seven operates station  ---retail indus\n",
    "\n",
    "\n",
    "**LDA MODEL**  ---Looks tough to interpret the topics\n",
    "\n",
    "Topic 1: product food acquisition acquired transaction undisclosed undisclosed_consideration engaged source business link brand source_link company employee\n",
    "\n",
    "Topic 2: cocacola beverage bottling distribution asset coffee cocacola_bottling consolidated water drink marketing refreshment soft tea bottling_consolidated\n",
    "\n",
    "Topic 3: transaction acquisition expected food filed store form sec filed_sec form_filed acquire brand listed update cash\n",
    "\n",
    "Topic 4: dealership automotive acquired undisclosed undisclosed_consideration group automotive_dealership car auto private acquisition individual private_individual individual_interest car_dealership\n",
    "\n",
    "Topic 5: share transaction form filed sec filed_sec form_filed headquartered price exhibit agreement new closing offer expected\n",
    "\n",
    "Topic 6: medium acquisition service digital marketing acquired transaction group new source engaged source_link link business publishing\n",
    "\n",
    "Topic 7: capital partner equity firm private private_equity equity_firm acquired venture undisclosed acquisition undisclosed_consideration transaction portfolio group\n",
    "\n",
    "Topic 8: broadcasting station television nexstar medium television_station nexstar_broadcasting broadcasting_group general group television_broadcasting communication fcc group_form local"
   ]
  }
 ],
 "metadata": {
  "kernelspec": {
   "display_name": "Python 2",
   "language": "python",
   "name": "python2"
  },
  "language_info": {
   "codemirror_mode": {
    "name": "ipython",
    "version": 2
   },
   "file_extension": ".py",
   "mimetype": "text/x-python",
   "name": "python",
   "nbconvert_exporter": "python",
   "pygments_lexer": "ipython2",
   "version": "2.7.13"
  }
 },
 "nbformat": 4,
 "nbformat_minor": 2
}
